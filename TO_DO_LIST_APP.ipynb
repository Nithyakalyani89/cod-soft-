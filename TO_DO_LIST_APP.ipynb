{
  "nbformat": 4,
  "nbformat_minor": 0,
  "metadata": {
    "colab": {
      "provenance": [],
      "authorship_tag": "ABX9TyPsc7UkIbe+Nz8sySd/echG",
      "include_colab_link": true
    },
    "kernelspec": {
      "name": "python3",
      "display_name": "Python 3"
    },
    "language_info": {
      "name": "python"
    }
  },
  "cells": [
    {
      "cell_type": "markdown",
      "metadata": {
        "id": "view-in-github",
        "colab_type": "text"
      },
      "source": [
        "<a href=\"https://colab.research.google.com/github/Nithyakalyani89/cod-soft-/blob/main/TO_DO_LIST_APP.ipynb\" target=\"_parent\"><img src=\"https://colab.research.google.com/assets/colab-badge.svg\" alt=\"Open In Colab\"/></a>"
      ]
    },
    {
      "cell_type": "markdown",
      "source": [],
      "metadata": {
        "id": "9ULlcTqwuFCQ"
      }
    },
    {
      "cell_type": "markdown",
      "source": [
        "##1.Import libraries"
      ],
      "metadata": {
        "id": "OJAFdKcN0-Br"
      }
    },
    {
      "cell_type": "code",
      "source": [
        "\n",
        "from tkinter import *\n",
        "from tkinter import ttk\n"
      ],
      "metadata": {
        "id": "QCZWiTuluQZI"
      },
      "execution_count": null,
      "outputs": []
    },
    {
      "cell_type": "markdown",
      "source": [
        "## 2. Create To-Do-List App window"
      ],
      "metadata": {
        "id": "IIeM6Zaa1Jld"
      }
    },
    {
      "cell_type": "code",
      "source": [
        "class todolist:\n",
        "  def __init__(self,root):\n",
        "        self.root=root\n",
        "        self.root.title(\"To-Do-List\")\n",
        "        self.root.geometry(\"650x500+300+200\")\n",
        "\n",
        "\n",
        "##label creation\n",
        "\n",
        "        self.label=Label(self.root, text=\"To-Do-List-App\",font=\"ariel,30,bold\",width=10,bd=5,bg=\"blue\",fg=\"black\")\n",
        "        self.label.pack(side=\"top\",fill=BOTH)\n",
        "\n",
        "        self.label2=Label(self.root, text=\"Add Task\",font=\"ariel,30,bold\",width=10,bd=5,bg=\"blue\",fg=\"black\")\n",
        "        self.label2.place(x=50,y=80)\n",
        "\n",
        "        self.label3=Label(self.root, text=\"Tasks\",font=\"ariel,30,bold\",width=10,bd=5,bg=\"blue\",fg=\"black\")\n",
        "        self.label3.place(x=250,y=60)\n",
        "\n",
        "        self.main_text=Listbox(self,root,height=9,bd=5,width=25,font=\"ariel,30,italic bold\")\n",
        "        self.main_text.place(x=280,y=120)\n",
        "\n",
        "        self.text=text(self,root,height=9,bd=5,width=25,font=\"ariel,10,bold\")\n",
        "        self.text.place(x=20,y=120)\n",
        "\n",
        "\n"
      ],
      "metadata": {
        "id": "0ALIxsYOCK_W"
      },
      "execution_count": null,
      "outputs": []
    },
    {
      "cell_type": "markdown",
      "source": [
        "## 3. Add Task"
      ],
      "metadata": {
        "id": "kVYuuE3g2SZK"
      }
    },
    {
      "cell_type": "code",
      "source": [
        "  def add():\n",
        "    content=self.text.get(1.0,END)\n",
        "    self.main_text.insert(END,content)\n",
        "    with open(\"data.txt\",\"a\") as file:\n",
        "       file.write(content)\n",
        "       file.seek(0)\n",
        "       file.close()\n",
        "    self.text.delete(1.0,END)\n",
        "    self.button=Button(self.root,text=\"ADD\",font=\"ariel,20 bold italic\",\n",
        "                width=10,bd=5,bg='blue',fg='black',command=add)\n",
        "    self.button.place(x=30,y=190)\n",
        "\n"
      ],
      "metadata": {
        "id": "HTHNcXkJxk_c"
      },
      "execution_count": null,
      "outputs": []
    },
    {
      "cell_type": "markdown",
      "source": [
        "##4.Delete task"
      ],
      "metadata": {
        "id": "FYyeqVvlFmMY"
      }
    },
    {
      "cell_type": "code",
      "source": [
        "\n",
        "  def delete():\n",
        "        delete_=self.main_text.curselection()\n",
        "        look=self.main_text.get(delete_)\n",
        "        with open(\"data.txt\",\"r+\")as f:\n",
        "            new_f=f.readlines()\n",
        "            f.seek(0)\n",
        "            for line in new_f:\n",
        "                item=str(look)\n",
        "                if item not in line:\n",
        "                    f.write(line)\n",
        "            f.truncate()\n",
        "        self.main_text.delete(delete_)\n",
        "\n",
        "        with open('data.txt',\"r\")as file:\n",
        "          read=file.readlines()\n",
        "          for i in read:\n",
        "            ready=i.split()\n",
        "            self.main_text.insert(END,ready)\n",
        "            file.close()\n",
        "            self.button2=Button(self.root,text=\"DELETE\",font=\"ariel,20 bold italic\",\n",
        "                         width=10,bd=5,bg='blue',fg='black',command=delete)\n",
        "            self.button2.place(x=30,y=290)\n",
        "\n"
      ],
      "metadata": {
        "id": "Z_mwIz0lFuXv"
      },
      "execution_count": null,
      "outputs": []
    },
    {
      "cell_type": "code",
      "source": [
        "def main():\n",
        "   root=Tk()\n",
        "   ui=todolist(root)\n",
        "   root.mainloop()\n",
        "\n",
        "\n",
        "\n"
      ],
      "metadata": {
        "id": "O3YfRKhluccQ"
      },
      "execution_count": null,
      "outputs": []
    },
    {
      "cell_type": "code",
      "source": [],
      "metadata": {
        "id": "JZvkaWGluLpQ"
      },
      "execution_count": null,
      "outputs": []
    },
    {
      "cell_type": "code",
      "source": [],
      "metadata": {
        "id": "gZtNZUjvuDdg"
      },
      "execution_count": null,
      "outputs": []
    },
    {
      "cell_type": "code",
      "source": [],
      "metadata": {
        "id": "9Y93z5ekIEN7"
      },
      "execution_count": null,
      "outputs": []
    }
  ]
}